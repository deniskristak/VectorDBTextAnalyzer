{
 "cells": [
  {
   "cell_type": "code",
   "outputs": [],
   "source": [
    "from vector_db import VectorDBTextAnalyzer"
   ],
   "metadata": {
    "collapsed": false,
    "ExecuteTime": {
     "end_time": "2024-02-09T22:08:21.944709Z",
     "start_time": "2024-02-09T22:08:21.629944Z"
    }
   },
   "id": "b5d90bf422271fba",
   "execution_count": 1
  },
  {
   "cell_type": "code",
   "outputs": [],
   "source": [
    "pdf_path = 'data_files'\n",
    "db_name = 'data_files_all'\n",
    "\n",
    "with VectorDBTextAnalyzer(pdf_path, db_name) as vector_db_searcher:\n",
    "    vector_db_searcher.create_db(cleanup=True)"
   ],
   "metadata": {
    "collapsed": false,
    "ExecuteTime": {
     "end_time": "2024-02-09T22:09:48.540941Z",
     "start_time": "2024-02-09T22:09:15.630533Z"
    }
   },
   "id": "2163662fc6df600c",
   "execution_count": 3
  },
  {
   "cell_type": "code",
   "outputs": [
    {
     "name": "stdout",
     "output_type": "stream",
     "text": [
      "_______QUERY_______\n",
      "effect of climate on species survival\n",
      "-------------------\n",
      "_______RESULTS_______\n",
      "-------------------\n",
      "File: Origin of The Species.pdf\n",
      "Page: 37.0\n",
      "Distance: 0.13350772857666016\n",
      "-------------------\n",
      "File: Origin of The Species.pdf\n",
      "Page: 36.0\n",
      "Distance: 0.14116185903549194\n",
      "-------------------\n",
      "File: Origin of The Species.pdf\n",
      "Page: 64.0\n",
      "Distance: 0.15904080867767334\n",
      "\n"
     ]
    }
   ],
   "source": [
    "with VectorDBTextAnalyzer(pdf_path, db_name) as vector_db_searcher:\n",
    "    text_to_match = 'effect of climate on species survival'\n",
    "    response = vector_db_searcher.search_pages(text_to_match)\n",
    "\n",
    "    # pretty-print the search results\n",
    "    vector_db_searcher.print_search_results(text_to_match, response)"
   ],
   "metadata": {
    "collapsed": false,
    "ExecuteTime": {
     "end_time": "2024-02-09T22:19:15.822700Z",
     "start_time": "2024-02-09T22:19:15.029434Z"
    }
   },
   "id": "edb2f3472f2a6da9",
   "execution_count": 6
  },
  {
   "cell_type": "code",
   "outputs": [],
   "source": [],
   "metadata": {
    "collapsed": false
   },
   "id": "e43e6ea77c6a76b1"
  }
 ],
 "metadata": {
  "kernelspec": {
   "display_name": "Python 3",
   "language": "python",
   "name": "python3"
  },
  "language_info": {
   "codemirror_mode": {
    "name": "ipython",
    "version": 2
   },
   "file_extension": ".py",
   "mimetype": "text/x-python",
   "name": "python",
   "nbconvert_exporter": "python",
   "pygments_lexer": "ipython2",
   "version": "2.7.6"
  }
 },
 "nbformat": 4,
 "nbformat_minor": 5
}
