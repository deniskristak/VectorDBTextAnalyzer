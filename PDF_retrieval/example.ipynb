{
 "cells": [
  {
   "cell_type": "code",
   "outputs": [],
   "source": [
    "from vector_db_pdf import VectorDBTextAnalyzerPDF"
   ],
   "metadata": {
    "collapsed": false,
    "ExecuteTime": {
     "end_time": "2024-02-21T22:45:34.374766Z",
     "start_time": "2024-02-21T22:45:33.073592Z"
    }
   },
   "id": "b5d90bf422271fba",
   "execution_count": 1
  },
  {
   "cell_type": "code",
   "outputs": [],
   "source": [
    "pdf_path = 'data_files'\n",
    "db_name = 'data_files_all'\n",
    "\n",
    "with VectorDBTextAnalyzerPDF(pdf_path, db_name) as vector_db_searcher:\n",
    "    vector_db_searcher.create_db(cleanup=True)"
   ],
   "metadata": {
    "collapsed": false,
    "ExecuteTime": {
     "end_time": "2024-02-21T22:46:09.358440Z",
     "start_time": "2024-02-21T22:45:34.376599Z"
    }
   },
   "id": "2163662fc6df600c",
   "execution_count": 2
  },
  {
   "cell_type": "code",
   "outputs": [
    {
     "name": "stdout",
     "output_type": "stream",
     "text": [
      "_______QUERY_______\n",
      "effect of climate on species survival\n",
      "-------------------\n",
      "_______RESULTS_______\n",
      "-------------------\n",
      "File: Origin of The Species.pdf\n",
      "Chunk: 37.0\n",
      "Distance: 0.13350772857666016\n",
      "-------------------\n",
      "File: Origin of The Species.pdf\n",
      "Chunk: 36.0\n",
      "Distance: 0.14116185903549194\n",
      "-------------------\n",
      "File: Origin of The Species.pdf\n",
      "Chunk: 64.0\n",
      "Distance: 0.15904080867767334\n"
     ]
    }
   ],
   "source": [
    "with VectorDBTextAnalyzerPDF(pdf_path, db_name) as vector_db_searcher:\n",
    "    text_to_match = 'effect of climate on species survival'\n",
    "    response = vector_db_searcher.search_pages(text_to_match)\n",
    "\n",
    "    # pretty-print the search results\n",
    "    vector_db_searcher.print_search_results(text_to_match, response)"
   ],
   "metadata": {
    "collapsed": false,
    "ExecuteTime": {
     "end_time": "2024-02-21T22:46:10.053690Z",
     "start_time": "2024-02-21T22:46:09.358631Z"
    }
   },
   "id": "edb2f3472f2a6da9",
   "execution_count": 3
  },
  {
   "cell_type": "code",
   "outputs": [
    {
     "name": "stdout",
     "output_type": "stream",
     "text": [
      "_______QUERY_______\n",
      "inequality of classes\n",
      "_______TASK_______\n",
      "Write a tweet with emojis about the acquired facts.\n",
      "_______GENERATED RESULT________\n",
      "Just acquired some deep insights into the history of class struggles and the evolution of species 📚🔍 #KnowledgeIsPower #History #Evolution 🌍🔬\n"
     ]
    }
   ],
   "source": [
    "with VectorDBTextAnalyzerPDF(pdf_path, db_name) as vector_db_searcher:\n",
    "    text_to_match = 'inequality of classes'\n",
    "    generative_task = 'Write a tweet with emojis about the acquired facts.'\n",
    "    response = vector_db_searcher.search_pages_generative(query=text_to_match, generative_task=generative_task)\n",
    "    vector_db_searcher.print_generated_response(text_to_match, generative_task, response)"
   ],
   "metadata": {
    "collapsed": false,
    "ExecuteTime": {
     "end_time": "2024-02-21T22:46:12.402323Z",
     "start_time": "2024-02-21T22:46:10.053101Z"
    }
   },
   "id": "e43e6ea77c6a76b1",
   "execution_count": 4
  },
  {
   "cell_type": "code",
   "outputs": [],
   "source": [],
   "metadata": {
    "collapsed": false,
    "ExecuteTime": {
     "end_time": "2024-02-21T22:46:12.405733Z",
     "start_time": "2024-02-21T22:46:12.401025Z"
    }
   },
   "id": "282e3419e16a597e",
   "execution_count": 4
  }
 ],
 "metadata": {
  "kernelspec": {
   "display_name": "Python 3",
   "language": "python",
   "name": "python3"
  },
  "language_info": {
   "codemirror_mode": {
    "name": "ipython",
    "version": 2
   },
   "file_extension": ".py",
   "mimetype": "text/x-python",
   "name": "python",
   "nbconvert_exporter": "python",
   "pygments_lexer": "ipython2",
   "version": "2.7.6"
  }
 },
 "nbformat": 4,
 "nbformat_minor": 5
}
